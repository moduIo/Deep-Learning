{
 "cells": [
  {
   "cell_type": "code",
   "execution_count": 4,
   "metadata": {
    "collapsed": true
   },
   "outputs": [],
   "source": [
    "import gym\n",
    "import numpy as np"
   ]
  },
  {
   "cell_type": "markdown",
   "metadata": {},
   "source": [
    "# Taxi World"
   ]
  },
  {
   "cell_type": "code",
   "execution_count": 2,
   "metadata": {
    "collapsed": true
   },
   "outputs": [],
   "source": [
    "env = gym.make(\"Taxi-v2\")"
   ]
  },
  {
   "cell_type": "code",
   "execution_count": 9,
   "metadata": {},
   "outputs": [],
   "source": [
    "state = env.reset()\n",
    "Q = np.zeros([env.observation_space.n, env.action_space.n])  # Q function table\n",
    "alpha = 0.9  # Learning rate"
   ]
  },
  {
   "cell_type": "code",
   "execution_count": 14,
   "metadata": {},
   "outputs": [
    {
     "name": "stdout",
     "output_type": "stream",
     "text": [
      "Episode 50 Total Reward: 5\n",
      "Episode 100 Total Reward: 9\n",
      "Episode 150 Total Reward: 10\n",
      "Episode 200 Total Reward: 15\n",
      "Episode 250 Total Reward: 8\n",
      "Episode 300 Total Reward: 14\n",
      "Episode 350 Total Reward: 8\n",
      "Episode 400 Total Reward: 12\n",
      "Episode 450 Total Reward: 7\n",
      "Episode 500 Total Reward: 6\n",
      "Episode 550 Total Reward: 9\n",
      "Episode 600 Total Reward: 10\n",
      "Episode 650 Total Reward: 11\n",
      "Episode 700 Total Reward: 6\n",
      "Episode 750 Total Reward: 11\n",
      "Episode 800 Total Reward: 3\n",
      "Episode 850 Total Reward: 8\n",
      "Episode 900 Total Reward: 10\n",
      "Episode 950 Total Reward: 9\n",
      "Episode 1000 Total Reward: 11\n"
     ]
    }
   ],
   "source": [
    "for episode in range(1,1001):\n",
    "    done = False\n",
    "    G, reward = 0, 0\n",
    "    state = env.reset()\n",
    "    \n",
    "    while done != True:\n",
    "            action = np.argmax(Q[state])\n",
    "            next_state, reward, done, info = env.step(action)\n",
    "            Q[state, action] += alpha * (reward + np.max(Q[next_state]) - Q[state, action])\n",
    "            G += reward  # Update cumulative reward (no discounting)\n",
    "            state = next_state  # State transition \n",
    "    \n",
    "    if episode % 50 == 0:\n",
    "        print('Episode {} Total Reward: {}'.format(episode, G))"
   ]
  }
 ],
 "metadata": {
  "kernelspec": {
   "display_name": "Python 2",
   "language": "python",
   "name": "python2"
  },
  "language_info": {
   "codemirror_mode": {
    "name": "ipython",
    "version": 2
   },
   "file_extension": ".py",
   "mimetype": "text/x-python",
   "name": "python",
   "nbconvert_exporter": "python",
   "pygments_lexer": "ipython2",
   "version": "2.7.14"
  }
 },
 "nbformat": 4,
 "nbformat_minor": 2
}
