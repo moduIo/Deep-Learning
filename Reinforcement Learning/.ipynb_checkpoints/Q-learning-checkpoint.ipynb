{
 "cells": [
  {
   "cell_type": "code",
   "execution_count": 67,
   "metadata": {
    "collapsed": true
   },
   "outputs": [],
   "source": [
    "import gym\n",
    "import numpy as np\n",
    "import matplotlib.pyplot as plt\n",
    "\n",
    "%matplotlib inline\n",
    "plt.rcParams['figure.figsize'] = [10, 5]"
   ]
  },
  {
   "cell_type": "markdown",
   "metadata": {},
   "source": [
    "# Taxi World"
   ]
  },
  {
   "cell_type": "code",
   "execution_count": 2,
   "metadata": {
    "collapsed": true
   },
   "outputs": [],
   "source": [
    "env = gym.make(\"Taxi-v2\")"
   ]
  },
  {
   "cell_type": "markdown",
   "metadata": {},
   "source": [
    "Let's experiment with how adjusting the learning rate affects the rewards."
   ]
  },
  {
   "cell_type": "code",
   "execution_count": 65,
   "metadata": {},
   "outputs": [],
   "source": [
    "average_rewards = []  # Average total reward from one training epoch\n",
    "episodes = 1000       # Number of episodes to train the agent\n",
    "alphas = []           # Tested learning rates\n",
    "alpha_counter = 0     # Learning rate\n",
    "\n",
    "while alpha_counter < 20:\n",
    "    alpha_counter += 1  # Use ints to avoid floating point errors\n",
    "    Q = np.zeros([env.observation_space.n, env.action_space.n])  # Q function table\n",
    "    total_reward = 0\n",
    "    alpha = alpha_counter/10.0\n",
    "    \n",
    "    for episode in range(1, episodes):\n",
    "        done = False\n",
    "        G, reward = 0, 0\n",
    "        state = env.reset()\n",
    "\n",
    "        while done != True:\n",
    "                action = np.argmax(Q[state])\n",
    "                next_state, reward, done, info = env.step(action)\n",
    "                Q[state, action] += alpha * (reward + np.max(Q[next_state]) - Q[state, action])\n",
    "                G += reward  # Update cumulative reward (no discounting)\n",
    "                state = next_state  # State transition\n",
    "                \n",
    "        total_reward += G\n",
    "    \n",
    "    average_rewards.append(total_reward/episodes)\n",
    "    alphas.append(str(alpha))"
   ]
  },
  {
   "cell_type": "code",
   "execution_count": 68,
   "metadata": {},
   "outputs": [
    {
     "data": {
      "text/plain": [
       "[<matplotlib.lines.Line2D at 0x10ee25e50>]"
      ]
     },
     "execution_count": 68,
     "metadata": {},
     "output_type": "execute_result"
    },
    {
     "data": {
      "image/png": "[encoded data removed]",
      "text/plain": [
       "<matplotlib.figure.Figure at 0x10ed7ba50>"
      ]
     },
     "metadata": {},
     "output_type": "display_data"
    }
   ],
   "source": [
    "plt.plot(alphas, average_rewards)"
   ]
  }
 ],
 "metadata": {
  "kernelspec": {
   "display_name": "Python 2",
   "language": "python",
   "name": "python2"
  },
  "language_info": {
   "codemirror_mode": {
    "name": "ipython",
    "version": 2
   },
   "file_extension": ".py",
   "mimetype": "text/x-python",
   "name": "python",
   "nbconvert_exporter": "python",
   "pygments_lexer": "ipython2",
   "version": "2.7.14"
  }
 },
 "nbformat": 4,
 "nbformat_minor": 2
}
