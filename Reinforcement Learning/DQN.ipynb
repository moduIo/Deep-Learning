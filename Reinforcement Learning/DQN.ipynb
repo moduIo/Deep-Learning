{
 "cells": [
  {
   "cell_type": "code",
   "execution_count": 2,
   "metadata": {},
   "outputs": [],
   "source": [
    "import random\n",
    "import gym\n",
    "import numpy as np\n",
    "from collections import deque\n",
    "from keras.models import Sequential\n",
    "from keras.layers import Dense, Activation, Flatten, Conv2D, MaxPooling2D\n",
    "from keras.optimizers import Adam"
   ]
  },
  {
   "cell_type": "markdown",
   "metadata": {},
   "source": [
    "# Agent"
   ]
  },
  {
   "cell_type": "code",
   "execution_count": 3,
   "metadata": {
    "collapsed": true
   },
   "outputs": [],
   "source": [
    "class DQN_Agent:\n",
    "    #\n",
    "    # Initializes attributes and constructs CNN model and target_model\n",
    "    #\n",
    "    def __init__(self, state_size, action_size):\n",
    "        self.state_size = state_size\n",
    "        self.action_size = action_size\n",
    "        self.memory = deque(maxlen=20000)\n",
    "        \n",
    "        # Hyperparameters\n",
    "        self.gamma = 0.9            # Discount rate\n",
    "        self.epsilon = 1.0          # Exploration rate\n",
    "        self.epsilon_min = 0.1      # Minimal exploration rate (epsilon-greedy)\n",
    "        self.epsilon_decay = 0.995  # Decay rate for epsilon\n",
    "        self.update_rate = 10000    # number of steps until updating the target network\n",
    "        \n",
    "        # Construct DQN models\n",
    "        self.model = self._build_model()\n",
    "        self.target_model = self._build_model()\n",
    "        self.target_model.set_weights(self.model.get_weights())\n",
    "        self.model.summary()\n",
    "\n",
    "    #\n",
    "    # Constructs CNN\n",
    "    #\n",
    "    def _build_model(self):\n",
    "        model = Sequential()\n",
    "        \n",
    "        # Conv Layers\n",
    "        model.add(Conv2D(32, (8, 8), strides=4, padding='same', input_shape=self.state_size))\n",
    "        model.add(Activation('relu'))\n",
    "        \n",
    "        model.add(Conv2D(64, (4, 4), strides=2, padding='same'))\n",
    "        model.add(Activation('relu'))\n",
    "        \n",
    "        model.add(Conv2D(64, (3, 3), strides=1, padding='same'))\n",
    "        model.add(Activation('relu'))\n",
    "        model.add(Flatten())\n",
    "\n",
    "        # FC Layers\n",
    "        model.add(Dense(512, activation='relu'))\n",
    "        model.add(Dense(self.action_size, activation='linear'))\n",
    "        \n",
    "        model.compile(loss='mse', optimizer=Adam())\n",
    "        return model\n",
    "\n",
    "    #\n",
    "    # Stores experience in replay memory\n",
    "    #\n",
    "    def remember(self, state, action, reward, next_state, done):\n",
    "        self.memory.append((state, action, reward, next_state, done))\n",
    "\n",
    "    #\n",
    "    # Chooses action based on epsilon-greedy policy\n",
    "    #\n",
    "    def act(self, state):\n",
    "        # Random exploration\n",
    "        if np.random.rand() <= self.epsilon:\n",
    "            return random.randrange(self.action_size)\n",
    "        \n",
    "        act_values = self.model.predict(state)\n",
    "        \n",
    "        return np.argmax(act_values[0])  # Returns action using policy\n",
    "\n",
    "    #\n",
    "    # Trains the model using randomly selected experiences in the replay memory\n",
    "    #\n",
    "    def replay(self, batch_size):\n",
    "        minibatch = random.sample(self.memory, batch_size)\n",
    "        \n",
    "        for state, action, reward, next_state, done in minibatch:\n",
    "            \n",
    "            if not done:\n",
    "                target = (reward + self.gamma * np.amax(self.target_model.predict(next_state)))\n",
    "            else:\n",
    "                target = reward\n",
    "                \n",
    "            # Construct the target vector as follows:\n",
    "            # 1. Use the current model to output the Q-value predictions\n",
    "            target_f = self.model.predict(state)\n",
    "            \n",
    "            # 2. Rewrite the chosen action value with the computed target\n",
    "            target_f[0][action] = target\n",
    "            \n",
    "            # 3. Use vectors in the objective computation\n",
    "            self.model.fit(state, target_f, epochs=1, verbose=0)\n",
    "            \n",
    "        if self.epsilon > self.epsilon_min:\n",
    "            self.epsilon *= self.epsilon_decay\n",
    "\n",
    "    #\n",
    "    # Sets the target model parameters to the current model parameters\n",
    "    #\n",
    "    def update_target_model(self):\n",
    "        self.target_model.set_weights(self.model.get_weights())\n",
    "            \n",
    "    #\n",
    "    # Loads a saved model\n",
    "    #\n",
    "    def load(self, name):\n",
    "        self.model.load_weights(name)\n",
    "\n",
    "    #\n",
    "    # Saves parameters of a trained model\n",
    "    #\n",
    "    def save(self, name):\n",
    "        self.model.save_weights(name)"
   ]
  },
  {
   "cell_type": "markdown",
   "metadata": {},
   "source": [
    "# Preprocessing"
   ]
  },
  {
   "cell_type": "code",
   "execution_count": 4,
   "metadata": {
    "collapsed": true
   },
   "outputs": [],
   "source": [
    "# Helpful preprocessing taken from github.com/ageron/tiny-dqn\n",
    "def process_frame(frame):\n",
    "    mspacman_color = np.array([210, 164, 74]).mean()\n",
    "    img = frame[1:176:2, ::2]    # Crop and downsize\n",
    "    img = img.mean(axis=2)       # Convert to greyscale\n",
    "    img[img==mspacman_color] = 0 # Improve contrast by making pacman white\n",
    "    img = (img - 128) / 128 - 1  # Normalize from -1 to 1.\n",
    "    return img.reshape(88, 80, 1)"
   ]
  },
  {
   "cell_type": "markdown",
   "metadata": {},
   "source": [
    "# Environment"
   ]
  },
  {
   "cell_type": "code",
   "execution_count": 5,
   "metadata": {},
   "outputs": [
    {
     "name": "stdout",
     "output_type": "stream",
     "text": [
      "_________________________________________________________________\n",
      "Layer (type)                 Output Shape              Param #   \n",
      "=================================================================\n",
      "conv2d_1 (Conv2D)            (None, 22, 20, 32)        2080      \n",
      "_________________________________________________________________\n",
      "activation_1 (Activation)    (None, 22, 20, 32)        0         \n",
      "_________________________________________________________________\n",
      "conv2d_2 (Conv2D)            (None, 11, 10, 64)        32832     \n",
      "_________________________________________________________________\n",
      "activation_2 (Activation)    (None, 11, 10, 64)        0         \n",
      "_________________________________________________________________\n",
      "conv2d_3 (Conv2D)            (None, 11, 10, 64)        36928     \n",
      "_________________________________________________________________\n",
      "activation_3 (Activation)    (None, 11, 10, 64)        0         \n",
      "_________________________________________________________________\n",
      "flatten_1 (Flatten)          (None, 7040)              0         \n",
      "_________________________________________________________________\n",
      "dense_1 (Dense)              (None, 512)               3604992   \n",
      "_________________________________________________________________\n",
      "dense_2 (Dense)              (None, 9)                 4617      \n",
      "=================================================================\n",
      "Total params: 3,681,449\n",
      "Trainable params: 3,681,449\n",
      "Non-trainable params: 0\n",
      "_________________________________________________________________\n"
     ]
    }
   ],
   "source": [
    "env = gym.make('MsPacman-v0')\n",
    "state_size = (88, 80, 1)\n",
    "action_size = env.action_space.n\n",
    "agent = DQN_Agent(state_size, action_size)\n",
    "\n",
    "episodes = 50\n",
    "batch_size = 8\n",
    "skip_start = 90  # MsPacman-v0 waits for 90 actions before the episode begins\n",
    "total_time = 0   # Counter for total number of steps taken\n",
    "done = False"
   ]
  },
  {
   "cell_type": "code",
   "execution_count": 6,
   "metadata": {
    "scrolled": false
   },
   "outputs": [
    {
     "name": "stdout",
     "output_type": "stream",
     "text": [
      "episode: 1/50, game score: 430.0, reward: -439.0, time: 868, total transitions: 869\n",
      "episode: 2/50, game score: 350.0, reward: -233.0, time: 582, total transitions: 1452\n",
      "episode: 3/50, game score: 280.0, reward: -279.0, time: 558, total transitions: 2011\n",
      "episode: 4/50, game score: 230.0, reward: -317.0, time: 546, total transitions: 2558\n",
      "episode: 5/50, game score: 490.0, reward: -404.0, time: 893, total transitions: 3452\n",
      "episode: 6/50, game score: 430.0, reward: -389.0, time: 818, total transitions: 4271\n",
      "episode: 7/50, game score: 640.0, reward: -127.0, time: 766, total transitions: 5038\n",
      "episode: 8/50, game score: 400.0, reward: -321.0, time: 720, total transitions: 5759\n",
      "episode: 9/50, game score: 520.0, reward: -258.0, time: 777, total transitions: 6537\n",
      "episode: 10/50, game score: 1690.0, reward: 803.0, time: 886, total transitions: 7424\n",
      "episode: 11/50, game score: 410.0, reward: -481.0, time: 890, total transitions: 8315\n",
      "episode: 12/50, game score: 690.0, reward: -54.0, time: 743, total transitions: 9059\n",
      "episode: 13/50, game score: 450.0, reward: -340.0, time: 789, total transitions: 9849\n",
      "episode: 14/50, game score: 910.0, reward: 70.0, time: 839, total transitions: 10689\n",
      "episode: 15/50, game score: 440.0, reward: -309.0, time: 748, total transitions: 11438\n",
      "episode: 16/50, game score: 700.0, reward: -125.0, time: 824, total transitions: 12263\n",
      "episode: 17/50, game score: 440.0, reward: -174.0, time: 613, total transitions: 12877\n",
      "episode: 18/50, game score: 270.0, reward: -164.0, time: 433, total transitions: 13311\n",
      "episode: 19/50, game score: 280.0, reward: -451.0, time: 730, total transitions: 14042\n",
      "episode: 20/50, game score: 380.0, reward: -564.0, time: 943, total transitions: 14986\n",
      "episode: 21/50, game score: 1200.0, reward: 153.0, time: 1046, total transitions: 16033\n",
      "episode: 22/50, game score: 720.0, reward: -57.0, time: 776, total transitions: 16810\n",
      "episode: 23/50, game score: 2260.0, reward: 1334.0, time: 925, total transitions: 17736\n",
      "episode: 24/50, game score: 630.0, reward: -207.0, time: 836, total transitions: 18573\n",
      "episode: 25/50, game score: 530.0, reward: -222.0, time: 751, total transitions: 19325\n",
      "episode: 26/50, game score: 1000.0, reward: 167.0, time: 832, total transitions: 20158\n",
      "episode: 27/50, game score: 640.0, reward: -289.0, time: 928, total transitions: 21087\n",
      "episode: 28/50, game score: 410.0, reward: -207.0, time: 616, total transitions: 21704\n",
      "episode: 29/50, game score: 520.0, reward: -206.0, time: 725, total transitions: 22430\n",
      "episode: 30/50, game score: 1000.0, reward: 86.0, time: 913, total transitions: 23344\n",
      "episode: 31/50, game score: 740.0, reward: 11.0, time: 728, total transitions: 24073\n",
      "episode: 32/50, game score: 290.0, reward: -381.0, time: 670, total transitions: 24744\n",
      "episode: 33/50, game score: 480.0, reward: -243.0, time: 722, total transitions: 25467\n",
      "episode: 34/50, game score: 1310.0, reward: 322.0, time: 987, total transitions: 26455\n",
      "episode: 35/50, game score: 2190.0, reward: 1345.0, time: 844, total transitions: 27300\n",
      "episode: 36/50, game score: 350.0, reward: -139.0, time: 488, total transitions: 27789\n",
      "episode: 37/50, game score: 230.0, reward: -221.0, time: 450, total transitions: 28240\n",
      "episode: 38/50, game score: 620.0, reward: -311.0, time: 930, total transitions: 29171\n",
      "episode: 39/50, game score: 240.0, reward: -526.0, time: 765, total transitions: 29937\n",
      "episode: 40/50, game score: 960.0, reward: 266.0, time: 693, total transitions: 30631\n",
      "episode: 41/50, game score: 700.0, reward: -153.0, time: 852, total transitions: 31484\n",
      "episode: 42/50, game score: 460.0, reward: -227.0, time: 686, total transitions: 32171\n",
      "episode: 43/50, game score: 500.0, reward: -132.0, time: 631, total transitions: 32803\n",
      "episode: 44/50, game score: 150.0, reward: -121.0, time: 270, total transitions: 33074\n",
      "episode: 45/50, game score: 350.0, reward: -327.0, time: 676, total transitions: 33751\n",
      "episode: 46/50, game score: 340.0, reward: -148.0, time: 487, total transitions: 34239\n",
      "episode: 47/50, game score: 790.0, reward: 23.0, time: 766, total transitions: 35006\n",
      "episode: 48/50, game score: 330.0, reward: -232.0, time: 561, total transitions: 35568\n",
      "episode: 49/50, game score: 600.0, reward: -30.0, time: 629, total transitions: 36198\n",
      "episode: 50/50, game score: 1070.0, reward: -189.0, time: 1258, total transitions: 37457\n"
     ]
    }
   ],
   "source": [
    "for e in range(episodes):\n",
    "    total_reward = 0\n",
    "    game_score = 0\n",
    "    state = process_frame(env.reset())\n",
    "    state = np.expand_dims(state, axis=0)\n",
    "    \n",
    "    for skip in range(skip_start): # skip the start of each game\n",
    "        env.step(0)\n",
    "    \n",
    "    for time in range(20000):\n",
    "        total_time += 1\n",
    "        \n",
    "        # Every update_rate timesteps we update the target network\n",
    "        if total_time % agent.update_rate == 0:\n",
    "            agent.update_target_model()\n",
    "        \n",
    "        env.render()\n",
    "        \n",
    "        # Transition Dynamics\n",
    "        action = agent.act(state)\n",
    "        next_state, reward, done, _ = env.step(action)\n",
    "        next_state = np.expand_dims(process_frame(next_state), axis=0)\n",
    "        \n",
    "        agent.remember(state, action, reward, next_state, done)\n",
    "        state = next_state\n",
    "        \n",
    "        game_score += reward\n",
    "        reward -= 1  # Punish behavior which does not accumulate reward\n",
    "        total_reward += reward\n",
    "        \n",
    "        if done:\n",
    "            print(\"episode: {}/{}, game score: {}, reward: {}, time: {}, total transitions: {}\"\n",
    "                  .format(e+1, episodes, game_score, total_reward, time, total_time))\n",
    "            break\n",
    "            \n",
    "        if len(agent.memory) > batch_size:\n",
    "            agent.replay(batch_size)"
   ]
  },
  {
   "cell_type": "code",
   "execution_count": 7,
   "metadata": {
    "collapsed": true
   },
   "outputs": [],
   "source": [
    "agent.save('20k_memory')"
   ]
  },
  {
   "cell_type": "markdown",
   "metadata": {},
   "source": [
    "By game 33 the agent learned to explicitly try to eat point blocks, and drastically improved in navigation smoothness."
   ]
  },
  {
   "cell_type": "code",
   "execution_count": null,
   "metadata": {
    "collapsed": true
   },
   "outputs": [],
   "source": []
  }
 ],
 "metadata": {
  "kernelspec": {
   "display_name": "Python 2",
   "language": "python",
   "name": "python2"
  },
  "language_info": {
   "codemirror_mode": {
    "name": "ipython",
    "version": 2
   },
   "file_extension": ".py",
   "mimetype": "text/x-python",
   "name": "python",
   "nbconvert_exporter": "python",
   "pygments_lexer": "ipython2",
   "version": "2.7.14"
  }
 },
 "nbformat": 4,
 "nbformat_minor": 2
}
